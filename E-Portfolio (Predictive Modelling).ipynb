{
 "cells": [
  {
   "cell_type": "markdown",
   "metadata": {},
   "source": [
    "### Problem Summary"
   ]
  },
  {
   "cell_type": "markdown",
   "metadata": {},
   "source": [
    "The fall and rise of real estate depends on various factors such as the changes in unemployment rate, growth in the population, urbanisation infrastructure development etc. But the local house prices always depend on the supply and demand. For example, if a newly constructed residential complex or a housing development area is opened for the buyers in the market, it drastically reduces the value of all the real estate nearby no matter what even if the area is well sought after for variuos reasons. Even if the properties are in prime locations, since the buyer have more options which is more supply the buyers have the options to explore which reduces the demand. The economic conditions, demography and the market conditions affect the real estate for a greater extent. But on a lower level its always the number of properties available in the region and the atrributes of the house such as number of bedrooms and the the distance from the city center that decides the growth and fall in the prices. \n",
    "\n",
    "This project is going to analyse a dataset containing the housing price details in suburb level that are linked with a few of the attributes of the houses such as distance from city centre, council area, No. of properties in the suburb, No. of rooms in the house, etc. to find out the if they are real reason for the fall in real estate.\n",
    "\n",
    "The dataset was acquired on Kaggle.com, an open source site which can be used to acquire and share data that makes sense. The dataset contains various attributes that are useful of a house starting from the distsnce fron the citycentre, property count in the same region etc. The dataset is compiled using data from many resouces over a period of one year in the suburbs of Melbourne, Australia."
   ]
  },
  {
   "cell_type": "code",
   "execution_count": 2,
   "metadata": {},
   "outputs": [],
   "source": [
    "# Import required libraries\n",
    "\n",
    "import numpy as np\n",
    "import pandas as pd\n",
    "from matplotlib import pyplot as plt\n",
    "import seaborn as sns\n",
    "from sklearn.preprocessing import StandardScaler\n",
    "import warnings\n",
    "warnings.filterwarnings('ignore')\n",
    "from sklearn.model_selection import train_test_split,StratifiedKFold,cross_val_score,GridSearchCV\n",
    "from sklearn.metrics import mean_squared_error\n",
    "from sklearn.pipeline import Pipeline\n",
    "from sklearn.linear_model import LinearRegression\n",
    "from sklearn.ensemble import RandomForestRegressor,AdaBoostRegressor,GradientBoostingRegressor\n",
    "from sklearn.tree import DecisionTreeRegressor"
   ]
  },
  {
   "cell_type": "code",
   "execution_count": 3,
   "metadata": {},
   "outputs": [
    {
     "data": {
      "text/html": [
       "<div>\n",
       "<style scoped>\n",
       "    .dataframe tbody tr th:only-of-type {\n",
       "        vertical-align: middle;\n",
       "    }\n",
       "\n",
       "    .dataframe tbody tr th {\n",
       "        vertical-align: top;\n",
       "    }\n",
       "\n",
       "    .dataframe thead th {\n",
       "        text-align: right;\n",
       "    }\n",
       "</style>\n",
       "<table border=\"1\" class=\"dataframe\">\n",
       "  <thead>\n",
       "    <tr style=\"text-align: right;\">\n",
       "      <th></th>\n",
       "      <th>Suburb</th>\n",
       "      <th>Address</th>\n",
       "      <th>Rooms</th>\n",
       "      <th>Type</th>\n",
       "      <th>Price</th>\n",
       "      <th>Method</th>\n",
       "      <th>SellerG</th>\n",
       "      <th>Date</th>\n",
       "      <th>Postcode</th>\n",
       "      <th>Regionname</th>\n",
       "      <th>Propertycount</th>\n",
       "      <th>Distance</th>\n",
       "      <th>CouncilArea</th>\n",
       "    </tr>\n",
       "  </thead>\n",
       "  <tbody>\n",
       "    <tr>\n",
       "      <th>0</th>\n",
       "      <td>Abbotsford</td>\n",
       "      <td>49 Lithgow St</td>\n",
       "      <td>3</td>\n",
       "      <td>h</td>\n",
       "      <td>1490000.0</td>\n",
       "      <td>S</td>\n",
       "      <td>Jellis</td>\n",
       "      <td>01-04-2017</td>\n",
       "      <td>3067</td>\n",
       "      <td>Northern Metropolitan</td>\n",
       "      <td>4019</td>\n",
       "      <td>3.0</td>\n",
       "      <td>Yarra City Council</td>\n",
       "    </tr>\n",
       "    <tr>\n",
       "      <th>1</th>\n",
       "      <td>Abbotsford</td>\n",
       "      <td>59A Turner St</td>\n",
       "      <td>3</td>\n",
       "      <td>h</td>\n",
       "      <td>1220000.0</td>\n",
       "      <td>S</td>\n",
       "      <td>Marshall</td>\n",
       "      <td>01-04-2017</td>\n",
       "      <td>3067</td>\n",
       "      <td>Northern Metropolitan</td>\n",
       "      <td>4019</td>\n",
       "      <td>3.0</td>\n",
       "      <td>Yarra City Council</td>\n",
       "    </tr>\n",
       "    <tr>\n",
       "      <th>2</th>\n",
       "      <td>Abbotsford</td>\n",
       "      <td>119B Yarra St</td>\n",
       "      <td>3</td>\n",
       "      <td>h</td>\n",
       "      <td>1420000.0</td>\n",
       "      <td>S</td>\n",
       "      <td>Nelson</td>\n",
       "      <td>01-04-2017</td>\n",
       "      <td>3067</td>\n",
       "      <td>Northern Metropolitan</td>\n",
       "      <td>4019</td>\n",
       "      <td>3.0</td>\n",
       "      <td>Yarra City Council</td>\n",
       "    </tr>\n",
       "    <tr>\n",
       "      <th>3</th>\n",
       "      <td>Aberfeldie</td>\n",
       "      <td>68 Vida St</td>\n",
       "      <td>3</td>\n",
       "      <td>h</td>\n",
       "      <td>1515000.0</td>\n",
       "      <td>S</td>\n",
       "      <td>Barry</td>\n",
       "      <td>01-04-2017</td>\n",
       "      <td>3040</td>\n",
       "      <td>Western Metropolitan</td>\n",
       "      <td>1543</td>\n",
       "      <td>7.5</td>\n",
       "      <td>Moonee Valley City Council</td>\n",
       "    </tr>\n",
       "    <tr>\n",
       "      <th>4</th>\n",
       "      <td>Airport West</td>\n",
       "      <td>92 Clydesdale Rd</td>\n",
       "      <td>2</td>\n",
       "      <td>h</td>\n",
       "      <td>670000.0</td>\n",
       "      <td>S</td>\n",
       "      <td>Nelson</td>\n",
       "      <td>01-04-2017</td>\n",
       "      <td>3042</td>\n",
       "      <td>Western Metropolitan</td>\n",
       "      <td>3464</td>\n",
       "      <td>10.4</td>\n",
       "      <td>Moonee Valley City Council</td>\n",
       "    </tr>\n",
       "  </tbody>\n",
       "</table>\n",
       "</div>"
      ],
      "text/plain": [
       "         Suburb           Address  Rooms Type      Price Method   SellerG  \\\n",
       "0    Abbotsford     49 Lithgow St      3    h  1490000.0      S    Jellis   \n",
       "1    Abbotsford     59A Turner St      3    h  1220000.0      S  Marshall   \n",
       "2    Abbotsford     119B Yarra St      3    h  1420000.0      S    Nelson   \n",
       "3    Aberfeldie        68 Vida St      3    h  1515000.0      S     Barry   \n",
       "4  Airport West  92 Clydesdale Rd      2    h   670000.0      S    Nelson   \n",
       "\n",
       "         Date  Postcode             Regionname  Propertycount  Distance  \\\n",
       "0  01-04-2017      3067  Northern Metropolitan           4019       3.0   \n",
       "1  01-04-2017      3067  Northern Metropolitan           4019       3.0   \n",
       "2  01-04-2017      3067  Northern Metropolitan           4019       3.0   \n",
       "3  01-04-2017      3040   Western Metropolitan           1543       7.5   \n",
       "4  01-04-2017      3042   Western Metropolitan           3464      10.4   \n",
       "\n",
       "                  CouncilArea  \n",
       "0          Yarra City Council  \n",
       "1          Yarra City Council  \n",
       "2          Yarra City Council  \n",
       "3  Moonee Valley City Council  \n",
       "4  Moonee Valley City Council  "
      ]
     },
     "execution_count": 3,
     "metadata": {},
     "output_type": "execute_result"
    }
   ],
   "source": [
    "# Reading Dataset\n",
    "\n",
    "df = pd.read_csv('MELBOURNE_HOUSE_PRICES_LESS.CSV')\n",
    "df.head()"
   ]
  },
  {
   "cell_type": "markdown",
   "metadata": {},
   "source": [
    "`Suburb`: Suburb\n",
    "\n",
    "`Address`: Address\n",
    "\n",
    "`Rooms`: Number of rooms\n",
    "\n",
    "`Price`: Price in Australian dollars\n",
    "\n",
    "`Method`:\n",
    "S - property sold;\n",
    "SP - property sold prior;\n",
    "PI - property passed in;\n",
    "PN - sold prior not disclosed;\n",
    "SN - sold not disclosed;\n",
    "NB - no bid;\n",
    "VB - vendor bid;\n",
    "W - withdrawn prior to auction;\n",
    "SA - sold after auction;\n",
    "SS - sold after auction price not disclosed.\n",
    "N/A - price or highest bid not available.\n",
    "\n",
    "`Type`:\n",
    "br - bedroom(s);\n",
    "h - house,cottage,villa, semi,terrace;\n",
    "u - unit, duplex;\n",
    "t - townhouse;\n",
    "dev site - development site;\n",
    "o res - other residential.\n",
    "\n",
    "`SellerG`: Real Estate Agent\n",
    "\n",
    "`Date`: Date sold\n",
    "\n",
    "`Distance`: Distance from CBD in Kilometres\n",
    "\n",
    "`Regionname`: General Region (West, North West, North, North east …etc)\n",
    "\n",
    "`Propertycount`: Number of properties that exist in the suburb.\n",
    "\n",
    "`CouncilArea`: Governing council for the area\n",
    "\n",
    "`Postcode` : Postal code"
   ]
  },
  {
   "cell_type": "code",
   "execution_count": 3,
   "metadata": {},
   "outputs": [
    {
     "data": {
      "text/plain": [
       "(63023, 13)"
      ]
     },
     "execution_count": 3,
     "metadata": {},
     "output_type": "execute_result"
    }
   ],
   "source": [
    "df.shape"
   ]
  },
  {
   "cell_type": "markdown",
   "metadata": {},
   "source": [
    "We have 63023 rows and 13 columns"
   ]
  },
  {
   "cell_type": "code",
   "execution_count": 4,
   "metadata": {},
   "outputs": [
    {
     "name": "stdout",
     "output_type": "stream",
     "text": [
      "<class 'pandas.core.frame.DataFrame'>\n",
      "RangeIndex: 63023 entries, 0 to 63022\n",
      "Data columns (total 13 columns):\n",
      " #   Column         Non-Null Count  Dtype  \n",
      "---  ------         --------------  -----  \n",
      " 0   Suburb         63023 non-null  object \n",
      " 1   Address        63023 non-null  object \n",
      " 2   Rooms          63023 non-null  int64  \n",
      " 3   Type           63023 non-null  object \n",
      " 4   Price          48433 non-null  float64\n",
      " 5   Method         63023 non-null  object \n",
      " 6   SellerG        63023 non-null  object \n",
      " 7   Date           63023 non-null  object \n",
      " 8   Postcode       63023 non-null  int64  \n",
      " 9   Regionname     63023 non-null  object \n",
      " 10  Propertycount  63023 non-null  int64  \n",
      " 11  Distance       63023 non-null  float64\n",
      " 12  CouncilArea    63023 non-null  object \n",
      "dtypes: float64(2), int64(3), object(8)\n",
      "memory usage: 6.3+ MB\n"
     ]
    }
   ],
   "source": [
    "df.info()"
   ]
  },
  {
   "cell_type": "markdown",
   "metadata": {},
   "source": [
    "We have 8 categorical features and 5 numerical features"
   ]
  },
  {
   "cell_type": "code",
   "execution_count": 5,
   "metadata": {},
   "outputs": [
    {
     "data": {
      "text/html": [
       "<div>\n",
       "<style scoped>\n",
       "    .dataframe tbody tr th:only-of-type {\n",
       "        vertical-align: middle;\n",
       "    }\n",
       "\n",
       "    .dataframe tbody tr th {\n",
       "        vertical-align: top;\n",
       "    }\n",
       "\n",
       "    .dataframe thead th {\n",
       "        text-align: right;\n",
       "    }\n",
       "</style>\n",
       "<table border=\"1\" class=\"dataframe\">\n",
       "  <thead>\n",
       "    <tr style=\"text-align: right;\">\n",
       "      <th></th>\n",
       "      <th>Rooms</th>\n",
       "      <th>Price</th>\n",
       "      <th>Postcode</th>\n",
       "      <th>Propertycount</th>\n",
       "      <th>Distance</th>\n",
       "    </tr>\n",
       "  </thead>\n",
       "  <tbody>\n",
       "    <tr>\n",
       "      <th>count</th>\n",
       "      <td>63023.000000</td>\n",
       "      <td>4.843300e+04</td>\n",
       "      <td>63023.000000</td>\n",
       "      <td>63023.000000</td>\n",
       "      <td>63023.000000</td>\n",
       "    </tr>\n",
       "    <tr>\n",
       "      <th>mean</th>\n",
       "      <td>3.110595</td>\n",
       "      <td>9.978982e+05</td>\n",
       "      <td>3125.673897</td>\n",
       "      <td>7617.728131</td>\n",
       "      <td>12.684829</td>\n",
       "    </tr>\n",
       "    <tr>\n",
       "      <th>std</th>\n",
       "      <td>0.957551</td>\n",
       "      <td>5.934989e+05</td>\n",
       "      <td>125.626877</td>\n",
       "      <td>4424.423167</td>\n",
       "      <td>7.592015</td>\n",
       "    </tr>\n",
       "    <tr>\n",
       "      <th>min</th>\n",
       "      <td>1.000000</td>\n",
       "      <td>8.500000e+04</td>\n",
       "      <td>3000.000000</td>\n",
       "      <td>39.000000</td>\n",
       "      <td>0.000000</td>\n",
       "    </tr>\n",
       "    <tr>\n",
       "      <th>25%</th>\n",
       "      <td>3.000000</td>\n",
       "      <td>6.200000e+05</td>\n",
       "      <td>3056.000000</td>\n",
       "      <td>4380.000000</td>\n",
       "      <td>7.000000</td>\n",
       "    </tr>\n",
       "    <tr>\n",
       "      <th>50%</th>\n",
       "      <td>3.000000</td>\n",
       "      <td>8.300000e+05</td>\n",
       "      <td>3107.000000</td>\n",
       "      <td>6795.000000</td>\n",
       "      <td>11.400000</td>\n",
       "    </tr>\n",
       "    <tr>\n",
       "      <th>75%</th>\n",
       "      <td>4.000000</td>\n",
       "      <td>1.220000e+06</td>\n",
       "      <td>3163.000000</td>\n",
       "      <td>10412.000000</td>\n",
       "      <td>16.700000</td>\n",
       "    </tr>\n",
       "    <tr>\n",
       "      <th>max</th>\n",
       "      <td>31.000000</td>\n",
       "      <td>1.120000e+07</td>\n",
       "      <td>3980.000000</td>\n",
       "      <td>21650.000000</td>\n",
       "      <td>64.100000</td>\n",
       "    </tr>\n",
       "  </tbody>\n",
       "</table>\n",
       "</div>"
      ],
      "text/plain": [
       "              Rooms         Price      Postcode  Propertycount      Distance\n",
       "count  63023.000000  4.843300e+04  63023.000000   63023.000000  63023.000000\n",
       "mean       3.110595  9.978982e+05   3125.673897    7617.728131     12.684829\n",
       "std        0.957551  5.934989e+05    125.626877    4424.423167      7.592015\n",
       "min        1.000000  8.500000e+04   3000.000000      39.000000      0.000000\n",
       "25%        3.000000  6.200000e+05   3056.000000    4380.000000      7.000000\n",
       "50%        3.000000  8.300000e+05   3107.000000    6795.000000     11.400000\n",
       "75%        4.000000  1.220000e+06   3163.000000   10412.000000     16.700000\n",
       "max       31.000000  1.120000e+07   3980.000000   21650.000000     64.100000"
      ]
     },
     "execution_count": 5,
     "metadata": {},
     "output_type": "execute_result"
    }
   ],
   "source": [
    "df.describe()"
   ]
  },
  {
   "cell_type": "markdown",
   "metadata": {},
   "source": [
    "The minimum, maximum, average and statndard deviation of the numerical variables is shown in the output."
   ]
  },
  {
   "cell_type": "code",
   "execution_count": 6,
   "metadata": {},
   "outputs": [
    {
     "data": {
      "text/plain": [
       "Suburb               0\n",
       "Address              0\n",
       "Rooms                0\n",
       "Type                 0\n",
       "Price            14590\n",
       "Method               0\n",
       "SellerG              0\n",
       "Date                 0\n",
       "Postcode             0\n",
       "Regionname           0\n",
       "Propertycount        0\n",
       "Distance             0\n",
       "CouncilArea          0\n",
       "dtype: int64"
      ]
     },
     "execution_count": 6,
     "metadata": {},
     "output_type": "execute_result"
    }
   ],
   "source": [
    "# Checking for null values\n",
    "\n",
    "df.isnull().sum()"
   ]
  },
  {
   "cell_type": "code",
   "execution_count": 7,
   "metadata": {},
   "outputs": [],
   "source": [
    "# Null value treatment\n",
    "# As we have null values for the target column we can better drop the rows.\n",
    "\n",
    "df = df.dropna(axis=0)"
   ]
  },
  {
   "cell_type": "code",
   "execution_count": 8,
   "metadata": {},
   "outputs": [
    {
     "data": {
      "text/plain": [
       "(48433, 13)"
      ]
     },
     "execution_count": 8,
     "metadata": {},
     "output_type": "execute_result"
    }
   ],
   "source": [
    "df.shape"
   ]
  },
  {
   "cell_type": "markdown",
   "metadata": {},
   "source": [
    "After null value treatment we have 48433 rows"
   ]
  },
  {
   "cell_type": "code",
   "execution_count": 9,
   "metadata": {},
   "outputs": [
    {
     "data": {
      "text/plain": [
       "<seaborn.axisgrid.PairGrid at 0x13a27e49040>"
      ]
     },
     "execution_count": 9,
     "metadata": {},
     "output_type": "execute_result"
    },
    {
     "data": {
      "image/png": "[encoded data removed]",
      "text/plain": [
       "<Figure size 900x900 with 30 Axes>"
      ]
     },
     "metadata": {
      "needs_background": "light"
     },
     "output_type": "display_data"
    }
   ],
   "source": [
    "sns.pairplot(df)"
   ]
  },
  {
   "cell_type": "markdown",
   "metadata": {},
   "source": [
    "It is visible from the scatterplots that the plots of the number of rooms, price, postcode, property count and distance are significantly similar when they are plotted against each other."
   ]
  },
  {
   "cell_type": "code",
   "execution_count": 10,
   "metadata": {},
   "outputs": [
    {
     "data": {
      "image/png": "[encoded data removed]",
      "text/plain": [
       "<Figure size 864x504 with 2 Axes>"
      ]
     },
     "metadata": {
      "needs_background": "light"
     },
     "output_type": "display_data"
    }
   ],
   "source": [
    "plt.figure(figsize=(12,7))\n",
    "sns.heatmap(df.corr(),annot=True)\n",
    "plt.show()"
   ]
  },
  {
   "cell_type": "code",
   "execution_count": 11,
   "metadata": {
    "scrolled": true
   },
   "outputs": [
    {
     "name": "stdout",
     "output_type": "stream",
     "text": [
      "Suburb\n",
      "Reservoir         1067\n",
      "Bentleigh East     696\n",
      "Richmond           642\n",
      "Craigieburn        598\n",
      "Preston            593\n",
      "                  ... \n",
      "Yarra Junction       1\n",
      "Wildwood             1\n",
      "Chintin              1\n",
      "Warneet              1\n",
      "Don Valley           1\n",
      "Name: Suburb, Length: 370, dtype: int64\n",
      "************************************\n",
      "Address\n",
      "14 Northcote St       7\n",
      "56 Victoria St        7\n",
      "14 Moray St           7\n",
      "401/340 Russell St    6\n",
      "52 Langs Rd           6\n",
      "                     ..\n",
      "679 Hampton St        1\n",
      "3/140 Hoffmans Rd     1\n",
      "116 Marlborough St    1\n",
      "2/66 Mahoneys Rd      1\n",
      "121 Dendy St          1\n",
      "Name: Address, Length: 44739, dtype: int64\n",
      "************************************\n",
      "Rooms\n",
      "3     21812\n",
      "4     11576\n",
      "2     10674\n",
      "5      2350\n",
      "1      1670\n",
      "6       283\n",
      "7        36\n",
      "8        19\n",
      "10        6\n",
      "12        2\n",
      "9         2\n",
      "31        1\n",
      "16        1\n",
      "11        1\n",
      "Name: Rooms, dtype: int64\n",
      "************************************\n",
      "Type\n",
      "h    34161\n",
      "u     9292\n",
      "t     4980\n",
      "Name: Type, dtype: int64\n",
      "************************************\n",
      "Price\n",
      "600000.0     459\n",
      "1100000.0    432\n",
      "800000.0     396\n",
      "1000000.0    396\n",
      "750000.0     388\n",
      "            ... \n",
      "298000.0       1\n",
      "2162000.0      1\n",
      "868200.0       1\n",
      "253000.0       1\n",
      "5925000.0      1\n",
      "Name: Price, Length: 3417, dtype: int64\n",
      "************************************\n",
      "Method\n",
      "S     30624\n",
      "SP     6480\n",
      "PI     5940\n",
      "VB     5024\n",
      "SA      365\n",
      "Name: Method, dtype: int64\n",
      "************************************\n",
      "SellerG\n",
      "Barry            4818\n",
      "Jellis           4088\n",
      "Nelson           4008\n",
      "Ray              3653\n",
      "hockingstuart    3465\n",
      "                 ... \n",
      "Pellegrino          1\n",
      "Vic                 1\n",
      "Icon                1\n",
      "Realty              1\n",
      "CarlinSmith         1\n",
      "Name: SellerG, Length: 422, dtype: int64\n",
      "************************************\n",
      "Date\n",
      "24-03-2018    880\n",
      "28-10-2017    879\n",
      "27-11-2016    753\n",
      "17-03-2018    753\n",
      "09-12-2017    724\n",
      "             ... \n",
      "30-09-2017     18\n",
      "20-01-2018     12\n",
      "31-03-2018     11\n",
      "27-01-2018     11\n",
      "28-01-2016     10\n",
      "Name: Date, Length: 112, dtype: int64\n",
      "************************************\n",
      "Postcode\n",
      "3073    1067\n",
      "3064     854\n",
      "3020     767\n",
      "3046     756\n",
      "3121     709\n",
      "        ... \n",
      "3755       1\n",
      "3781       1\n",
      "3788       1\n",
      "3767       1\n",
      "3980       1\n",
      "Name: Postcode, Length: 221, dtype: int64\n",
      "************************************\n",
      "Regionname\n",
      "Northern Metropolitan         13598\n",
      "Southern Metropolitan         12549\n",
      "Western Metropolitan           9680\n",
      "Eastern Metropolitan           7585\n",
      "South-Eastern Metropolitan     4010\n",
      "Northern Victoria               455\n",
      "Eastern Victoria                374\n",
      "Western Victoria                182\n",
      "Name: Regionname, dtype: int64\n",
      "************************************\n",
      "Propertycount\n",
      "21650    1067\n",
      "8870      876\n",
      "10969     696\n",
      "14949     642\n",
      "15510     598\n",
      "         ... \n",
      "39          1\n",
      "262         1\n",
      "1636        1\n",
      "580         1\n",
      "96          1\n",
      "Name: Propertycount, Length: 359, dtype: int64\n",
      "************************************\n",
      "Distance\n",
      "10.5    1171\n",
      "13.8    1099\n",
      "12.0    1067\n",
      "8.4     1047\n",
      "6.2      973\n",
      "        ... \n",
      "33.0       1\n",
      "42.1       1\n",
      "55.8       1\n",
      "30.1       1\n",
      "30.6       1\n",
      "Name: Distance, Length: 176, dtype: int64\n",
      "************************************\n",
      "CouncilArea\n",
      "Darebin City Council              3462\n",
      "Boroondara City Council           3455\n",
      "Banyule City Council              2902\n",
      "Brimbank City Council             2720\n",
      "Moreland City Council             2519\n",
      "Bayside City Council              2495\n",
      "Monash City Council               2442\n",
      "Hume City Council                 2373\n",
      "Glen Eira City Council            2351\n",
      "Moonee Valley City Council        2163\n",
      "Whittlesea City Council           2059\n",
      "Melbourne City Council            2055\n",
      "Kingston City Council             2025\n",
      "Maribyrnong City Council          1734\n",
      "Manningham City Council           1730\n",
      "Yarra City Council                1320\n",
      "Whitehorse City Council           1320\n",
      "Port Phillip City Council         1291\n",
      "Stonnington City Council          1228\n",
      "Wyndham City Council              1154\n",
      "Hobsons Bay City Council          1112\n",
      "Maroondah City Council            1006\n",
      "Knox City Council                  750\n",
      "Frankston City Council             656\n",
      "Greater Dandenong City Council     596\n",
      "Melton City Council                552\n",
      "Casey City Council                 343\n",
      "Nillumbik Shire Council            238\n",
      "Yarra Ranges Shire Council         175\n",
      "Macedon Ranges Shire Council       114\n",
      "Cardinia Shire Council              52\n",
      "Mitchell Shire Council              29\n",
      "Moorabool Shire Council             11\n",
      "Murrindindi Shire Council            1\n",
      "Name: CouncilArea, dtype: int64\n",
      "************************************\n"
     ]
    }
   ],
   "source": [
    "# Checking for the value counts of each column\n",
    "\n",
    "for i in df:\n",
    "    print(i)\n",
    "    print(df[i].value_counts())\n",
    "    print('************************************')"
   ]
  },
  {
   "cell_type": "markdown",
   "metadata": {},
   "source": [
    "Suburb,Address,SellerG are categorical columns with many categories in it. Surburb column contains the information of which suburb area to which the house belongs to. The address and SellerG columns contain the address and seller name of the houses."
   ]
  },
  {
   "cell_type": "code",
   "execution_count": 12,
   "metadata": {},
   "outputs": [
    {
     "data": {
      "text/plain": [
       "3                 21812\n",
       "4                 11576\n",
       "2                 10674\n",
       "Greater than 4     2701\n",
       "1                  1670\n",
       "Name: Rooms, dtype: int64"
      ]
     },
     "execution_count": 12,
     "metadata": {},
     "output_type": "execute_result"
    }
   ],
   "source": [
    "# As we have 14 unique values in Rooms column, grouping them into 5 columns.\n",
    "\n",
    "l = []\n",
    "for i in df['Rooms']:\n",
    "    if i > 4:\n",
    "        l.append('Greater than 4')\n",
    "    else:\n",
    "        l.append(i)\n",
    "        \n",
    "df['Rooms'] = l\n",
    "df['Rooms'].value_counts()"
   ]
  },
  {
   "cell_type": "markdown",
   "metadata": {},
   "source": [
    "From the output, the number of houses with 1, 2, 3, 4, greater than 4 bedrooms is visible."
   ]
  },
  {
   "cell_type": "code",
   "execution_count": 13,
   "metadata": {},
   "outputs": [
    {
     "data": {
      "text/plain": [
       "Between 1000 and 10000    34539\n",
       "Greater than 10000        13200\n",
       "Less than 1000              694\n",
       "Name: Propertycount, dtype: int64"
      ]
     },
     "execution_count": 13,
     "metadata": {},
     "output_type": "execute_result"
    }
   ],
   "source": [
    "# As there are many unique values in property count, grouped them as per below and converted to categorical column.\n",
    "\n",
    "p = []\n",
    "for i in df['Propertycount']:\n",
    "    if i < 1000:\n",
    "        p.append('Less than 1000')\n",
    "    elif 1000 <= i < 10000:\n",
    "        p.append('Between 1000 and 10000')\n",
    "    elif i >= 10000:\n",
    "        p.append('Greater than 10000')\n",
    "        \n",
    "df['Propertycount'] = p\n",
    "df['Propertycount'].value_counts()"
   ]
  },
  {
   "cell_type": "markdown",
   "metadata": {},
   "source": [
    "From the output, the number of houses with property count less than 1000, between 1000 and 10,000 and greater than 10,000 in the suburb is visible."
   ]
  },
  {
   "cell_type": "code",
   "execution_count": 14,
   "metadata": {},
   "outputs": [
    {
     "name": "stdout",
     "output_type": "stream",
     "text": [
      "Northern Metropolitan \n",
      " ['Yarra City Council' 'Darebin City Council' 'Hume City Council'\n",
      " 'Moreland City Council' 'Banyule City Council' 'Melbourne City Council'\n",
      " 'Whittlesea City Council']\n",
      "***********************************\n",
      "Western Metropolitan \n",
      " ['Moonee Valley City Council' 'Brimbank City Council'\n",
      " 'Hobsons Bay City Council' 'Maribyrnong City Council'\n",
      " 'Melton City Council' 'Hume City Council' 'Moreland City Council'\n",
      " 'Wyndham City Council']\n",
      "***********************************\n",
      "Southern Metropolitan \n",
      " ['Port Phillip City Council' 'Stonnington City Council'\n",
      " 'Boroondara City Council' 'Monash City Council' 'Bayside City Council'\n",
      " 'Glen Eira City Council' 'Kingston City Council' 'Melbourne City Council']\n",
      "***********************************\n",
      "South-Eastern Metropolitan \n",
      " ['Kingston City Council' 'Frankston City Council' 'Monash City Council'\n",
      " 'Casey City Council' 'Greater Dandenong City Council' 'Knox City Council']\n",
      "***********************************\n",
      "Eastern Metropolitan \n",
      " ['Maroondah City Council' 'Banyule City Council' 'Whitehorse City Council'\n",
      " 'Manningham City Council' 'Knox City Council' 'Monash City Council'\n",
      " 'Boroondara City Council' 'Nillumbik Shire Council']\n",
      "***********************************\n",
      "Northern Victoria \n",
      " ['Nillumbik Shire Council' 'Macedon Ranges Shire Council'\n",
      " 'Yarra Ranges Shire Council' 'Melton City Council'\n",
      " 'Mitchell Shire Council' 'Whittlesea City Council'\n",
      " 'Murrindindi Shire Council']\n",
      "***********************************\n",
      "Eastern Victoria \n",
      " ['Frankston City Council' 'Yarra Ranges Shire Council'\n",
      " 'Cardinia Shire Council' 'Casey City Council' 'Manningham City Council']\n",
      "***********************************\n",
      "Western Victoria \n",
      " ['Melton City Council' 'Moorabool Shire Council']\n",
      "***********************************\n"
     ]
    }
   ],
   "source": [
    "# Checking whether each Regionname has unique councilareas or not.\n",
    "\n",
    "for i in df['Regionname'].unique():\n",
    "    print(i,'\\n',df[df['Regionname'] == i]['CouncilArea'].unique())\n",
    "    print('***********************************')"
   ]
  },
  {
   "cell_type": "markdown",
   "metadata": {},
   "source": [
    "Found that maximum records are unique values and hence we can conclude that the columns Councilarea and Regionname as highly correlated. So dropping CouncilArea column. As Suburb and Address have many categories among them and they just denote the location of the house, they will definitely be correlated with Regionname column and hence dropping those two columns. Also SellerG column have many unique sellers in it, it is not possible to encode with those many categories, hence the seller information column is dropped. Postcode also denotes the location and so dropping it. Date column represents date of selling and it definitely doesn't effect price column, hence the date colum is being dropped."
   ]
  },
  {
   "cell_type": "code",
   "execution_count": 15,
   "metadata": {},
   "outputs": [
    {
     "data": {
      "text/html": [
       "<div>\n",
       "<style scoped>\n",
       "    .dataframe tbody tr th:only-of-type {\n",
       "        vertical-align: middle;\n",
       "    }\n",
       "\n",
       "    .dataframe tbody tr th {\n",
       "        vertical-align: top;\n",
       "    }\n",
       "\n",
       "    .dataframe thead th {\n",
       "        text-align: right;\n",
       "    }\n",
       "</style>\n",
       "<table border=\"1\" class=\"dataframe\">\n",
       "  <thead>\n",
       "    <tr style=\"text-align: right;\">\n",
       "      <th></th>\n",
       "      <th>Rooms</th>\n",
       "      <th>Type</th>\n",
       "      <th>Price</th>\n",
       "      <th>Method</th>\n",
       "      <th>Regionname</th>\n",
       "      <th>Propertycount</th>\n",
       "      <th>Distance</th>\n",
       "    </tr>\n",
       "  </thead>\n",
       "  <tbody>\n",
       "    <tr>\n",
       "      <th>0</th>\n",
       "      <td>3</td>\n",
       "      <td>h</td>\n",
       "      <td>1490000.0</td>\n",
       "      <td>S</td>\n",
       "      <td>Northern Metropolitan</td>\n",
       "      <td>Between 1000 and 10000</td>\n",
       "      <td>3.0</td>\n",
       "    </tr>\n",
       "    <tr>\n",
       "      <th>1</th>\n",
       "      <td>3</td>\n",
       "      <td>h</td>\n",
       "      <td>1220000.0</td>\n",
       "      <td>S</td>\n",
       "      <td>Northern Metropolitan</td>\n",
       "      <td>Between 1000 and 10000</td>\n",
       "      <td>3.0</td>\n",
       "    </tr>\n",
       "    <tr>\n",
       "      <th>2</th>\n",
       "      <td>3</td>\n",
       "      <td>h</td>\n",
       "      <td>1420000.0</td>\n",
       "      <td>S</td>\n",
       "      <td>Northern Metropolitan</td>\n",
       "      <td>Between 1000 and 10000</td>\n",
       "      <td>3.0</td>\n",
       "    </tr>\n",
       "    <tr>\n",
       "      <th>3</th>\n",
       "      <td>3</td>\n",
       "      <td>h</td>\n",
       "      <td>1515000.0</td>\n",
       "      <td>S</td>\n",
       "      <td>Western Metropolitan</td>\n",
       "      <td>Between 1000 and 10000</td>\n",
       "      <td>7.5</td>\n",
       "    </tr>\n",
       "    <tr>\n",
       "      <th>4</th>\n",
       "      <td>2</td>\n",
       "      <td>h</td>\n",
       "      <td>670000.0</td>\n",
       "      <td>S</td>\n",
       "      <td>Western Metropolitan</td>\n",
       "      <td>Between 1000 and 10000</td>\n",
       "      <td>10.4</td>\n",
       "    </tr>\n",
       "  </tbody>\n",
       "</table>\n",
       "</div>"
      ],
      "text/plain": [
       "  Rooms Type      Price Method             Regionname           Propertycount  \\\n",
       "0     3    h  1490000.0      S  Northern Metropolitan  Between 1000 and 10000   \n",
       "1     3    h  1220000.0      S  Northern Metropolitan  Between 1000 and 10000   \n",
       "2     3    h  1420000.0      S  Northern Metropolitan  Between 1000 and 10000   \n",
       "3     3    h  1515000.0      S   Western Metropolitan  Between 1000 and 10000   \n",
       "4     2    h   670000.0      S   Western Metropolitan  Between 1000 and 10000   \n",
       "\n",
       "   Distance  \n",
       "0       3.0  \n",
       "1       3.0  \n",
       "2       3.0  \n",
       "3       7.5  \n",
       "4      10.4  "
      ]
     },
     "execution_count": 15,
     "metadata": {},
     "output_type": "execute_result"
    }
   ],
   "source": [
    "df = df.drop(['Suburb','Address','SellerG','CouncilArea','Postcode','Date'],axis=1)\n",
    "df.head()"
   ]
  },
  {
   "cell_type": "code",
   "execution_count": 16,
   "metadata": {},
   "outputs": [],
   "source": [
    "# Dividing the data into categorical and numerical for further processes.\n",
    "\n",
    "df_cat = df.select_dtypes(include='object')\n",
    "df_num = df.select_dtypes(include=np.number)"
   ]
  },
  {
   "cell_type": "code",
   "execution_count": 17,
   "metadata": {},
   "outputs": [
    {
     "data": {
      "text/html": [
       "<div>\n",
       "<style scoped>\n",
       "    .dataframe tbody tr th:only-of-type {\n",
       "        vertical-align: middle;\n",
       "    }\n",
       "\n",
       "    .dataframe tbody tr th {\n",
       "        vertical-align: top;\n",
       "    }\n",
       "\n",
       "    .dataframe thead th {\n",
       "        text-align: right;\n",
       "    }\n",
       "</style>\n",
       "<table border=\"1\" class=\"dataframe\">\n",
       "  <thead>\n",
       "    <tr style=\"text-align: right;\">\n",
       "      <th></th>\n",
       "      <th>Price</th>\n",
       "      <th>Distance</th>\n",
       "    </tr>\n",
       "  </thead>\n",
       "  <tbody>\n",
       "    <tr>\n",
       "      <th>0</th>\n",
       "      <td>1490000.0</td>\n",
       "      <td>3.0</td>\n",
       "    </tr>\n",
       "    <tr>\n",
       "      <th>1</th>\n",
       "      <td>1220000.0</td>\n",
       "      <td>3.0</td>\n",
       "    </tr>\n",
       "    <tr>\n",
       "      <th>2</th>\n",
       "      <td>1420000.0</td>\n",
       "      <td>3.0</td>\n",
       "    </tr>\n",
       "    <tr>\n",
       "      <th>3</th>\n",
       "      <td>1515000.0</td>\n",
       "      <td>7.5</td>\n",
       "    </tr>\n",
       "    <tr>\n",
       "      <th>4</th>\n",
       "      <td>670000.0</td>\n",
       "      <td>10.4</td>\n",
       "    </tr>\n",
       "  </tbody>\n",
       "</table>\n",
       "</div>"
      ],
      "text/plain": [
       "       Price  Distance\n",
       "0  1490000.0       3.0\n",
       "1  1220000.0       3.0\n",
       "2  1420000.0       3.0\n",
       "3  1515000.0       7.5\n",
       "4   670000.0      10.4"
      ]
     },
     "execution_count": 17,
     "metadata": {},
     "output_type": "execute_result"
    }
   ],
   "source": [
    "df_num.head()"
   ]
  },
  {
   "cell_type": "code",
   "execution_count": 18,
   "metadata": {},
   "outputs": [
    {
     "data": {
      "text/html": [
       "<div>\n",
       "<style scoped>\n",
       "    .dataframe tbody tr th:only-of-type {\n",
       "        vertical-align: middle;\n",
       "    }\n",
       "\n",
       "    .dataframe tbody tr th {\n",
       "        vertical-align: top;\n",
       "    }\n",
       "\n",
       "    .dataframe thead th {\n",
       "        text-align: right;\n",
       "    }\n",
       "</style>\n",
       "<table border=\"1\" class=\"dataframe\">\n",
       "  <thead>\n",
       "    <tr style=\"text-align: right;\">\n",
       "      <th></th>\n",
       "      <th>Rooms</th>\n",
       "      <th>Type</th>\n",
       "      <th>Method</th>\n",
       "      <th>Regionname</th>\n",
       "      <th>Propertycount</th>\n",
       "    </tr>\n",
       "  </thead>\n",
       "  <tbody>\n",
       "    <tr>\n",
       "      <th>0</th>\n",
       "      <td>3</td>\n",
       "      <td>h</td>\n",
       "      <td>S</td>\n",
       "      <td>Northern Metropolitan</td>\n",
       "      <td>Between 1000 and 10000</td>\n",
       "    </tr>\n",
       "    <tr>\n",
       "      <th>1</th>\n",
       "      <td>3</td>\n",
       "      <td>h</td>\n",
       "      <td>S</td>\n",
       "      <td>Northern Metropolitan</td>\n",
       "      <td>Between 1000 and 10000</td>\n",
       "    </tr>\n",
       "    <tr>\n",
       "      <th>2</th>\n",
       "      <td>3</td>\n",
       "      <td>h</td>\n",
       "      <td>S</td>\n",
       "      <td>Northern Metropolitan</td>\n",
       "      <td>Between 1000 and 10000</td>\n",
       "    </tr>\n",
       "    <tr>\n",
       "      <th>3</th>\n",
       "      <td>3</td>\n",
       "      <td>h</td>\n",
       "      <td>S</td>\n",
       "      <td>Western Metropolitan</td>\n",
       "      <td>Between 1000 and 10000</td>\n",
       "    </tr>\n",
       "    <tr>\n",
       "      <th>4</th>\n",
       "      <td>2</td>\n",
       "      <td>h</td>\n",
       "      <td>S</td>\n",
       "      <td>Western Metropolitan</td>\n",
       "      <td>Between 1000 and 10000</td>\n",
       "    </tr>\n",
       "  </tbody>\n",
       "</table>\n",
       "</div>"
      ],
      "text/plain": [
       "  Rooms Type Method             Regionname           Propertycount\n",
       "0     3    h      S  Northern Metropolitan  Between 1000 and 10000\n",
       "1     3    h      S  Northern Metropolitan  Between 1000 and 10000\n",
       "2     3    h      S  Northern Metropolitan  Between 1000 and 10000\n",
       "3     3    h      S   Western Metropolitan  Between 1000 and 10000\n",
       "4     2    h      S   Western Metropolitan  Between 1000 and 10000"
      ]
     },
     "execution_count": 18,
     "metadata": {},
     "output_type": "execute_result"
    }
   ],
   "source": [
    "df_cat.head()"
   ]
  },
  {
   "cell_type": "code",
   "execution_count": 19,
   "metadata": {},
   "outputs": [
    {
     "data": {
      "text/plain": [
       "(44644, 7)"
      ]
     },
     "execution_count": 19,
     "metadata": {},
     "output_type": "execute_result"
    }
   ],
   "source": [
    "# Outlier Detection using IQR method\n",
    "\n",
    "q1 = df.quantile(0.25)\n",
    "q3 = df.quantile(0.75)\n",
    "IQR = q3-q1\n",
    "\n",
    "# Removal of outliers\n",
    "\n",
    "df = df[~((df>(q3+1.5*IQR)) | (df<(q1-1.5*IQR))).any(axis=1)]\n",
    "df.shape"
   ]
  },
  {
   "cell_type": "code",
   "execution_count": 20,
   "metadata": {},
   "outputs": [
    {
     "data": {
      "image/png": "[encoded data removed]",
      "text/plain": [
       "<Figure size 432x288 with 1 Axes>"
      ]
     },
     "metadata": {
      "needs_background": "light"
     },
     "output_type": "display_data"
    },
    {
     "name": "stdout",
     "output_type": "stream",
     "text": [
      "0.8485550369906724\n"
     ]
    },
    {
     "data": {
      "image/png": "[encoded data removed]",
      "text/plain": [
       "<Figure size 432x288 with 1 Axes>"
      ]
     },
     "metadata": {
      "needs_background": "light"
     },
     "output_type": "display_data"
    },
    {
     "name": "stdout",
     "output_type": "stream",
     "text": [
      "0.42867563651649637\n"
     ]
    }
   ],
   "source": [
    "# Checking the distribution of numerical columns.\n",
    "\n",
    "for i in df_num:\n",
    "    sns.distplot(df[i])\n",
    "    plt.show()\n",
    "    print(df[i].skew())"
   ]
  },
  {
   "cell_type": "code",
   "execution_count": 21,
   "metadata": {},
   "outputs": [],
   "source": [
    "# Performing log transformation to reduce skewness\n",
    "\n",
    "df['Distance'] = np.sqrt(df['Distance'])"
   ]
  },
  {
   "cell_type": "code",
   "execution_count": 22,
   "metadata": {},
   "outputs": [
    {
     "data": {
      "image/png": "[encoded data removed]",
      "text/plain": [
       "<Figure size 432x288 with 1 Axes>"
      ]
     },
     "metadata": {
      "needs_background": "light"
     },
     "output_type": "display_data"
    },
    {
     "data": {
      "image/png": "[encoded data removed]",
      "text/plain": [
       "<Figure size 432x288 with 1 Axes>"
      ]
     },
     "metadata": {
      "needs_background": "light"
     },
     "output_type": "display_data"
    },
    {
     "data": {
      "image/png": "[encoded data removed]",
      "text/plain": [
       "<Figure size 432x288 with 1 Axes>"
      ]
     },
     "metadata": {
      "needs_background": "light"
     },
     "output_type": "display_data"
    },
    {
     "data": {
      "image/png": "[encoded data removed]",
      "text/plain": [
       "<Figure size 432x288 with 1 Axes>"
      ]
     },
     "metadata": {
      "needs_background": "light"
     },
     "output_type": "display_data"
    },
    {
     "data": {
      "image/png": "[encoded data removed]",
      "text/plain": [
       "<Figure size 432x288 with 1 Axes>"
      ]
     },
     "metadata": {
      "needs_background": "light"
     },
     "output_type": "display_data"
    }
   ],
   "source": [
    "# Countplots of categorical columns to check the variance of each category\n",
    "\n",
    "for i in df_cat:\n",
    "    sns.countplot(y = df[i])\n",
    "    plt.show()"
   ]
  },
  {
   "cell_type": "markdown",
   "metadata": {},
   "source": [
    "### One Hot Encoding"
   ]
  },
  {
   "cell_type": "markdown",
   "metadata": {},
   "source": [
    "OneHotEncoder can use the encoder on training data and also apply it to transform both training and test data. get_dummies command from the Pandas library cannot do this process."
   ]
  },
  {
   "cell_type": "code",
   "execution_count": 23,
   "metadata": {},
   "outputs": [
    {
     "data": {
      "text/html": [
       "<div>\n",
       "<style scoped>\n",
       "    .dataframe tbody tr th:only-of-type {\n",
       "        vertical-align: middle;\n",
       "    }\n",
       "\n",
       "    .dataframe tbody tr th {\n",
       "        vertical-align: top;\n",
       "    }\n",
       "\n",
       "    .dataframe thead th {\n",
       "        text-align: right;\n",
       "    }\n",
       "</style>\n",
       "<table border=\"1\" class=\"dataframe\">\n",
       "  <thead>\n",
       "    <tr style=\"text-align: right;\">\n",
       "      <th></th>\n",
       "      <th>Price</th>\n",
       "      <th>Distance</th>\n",
       "      <th>Rooms_2</th>\n",
       "      <th>Rooms_3</th>\n",
       "      <th>Rooms_4</th>\n",
       "      <th>Rooms_Greater than 4</th>\n",
       "      <th>Type_t</th>\n",
       "      <th>Type_u</th>\n",
       "      <th>Method_S</th>\n",
       "      <th>Method_SA</th>\n",
       "      <th>...</th>\n",
       "      <th>Method_VB</th>\n",
       "      <th>Regionname_Eastern Victoria</th>\n",
       "      <th>Regionname_Northern Metropolitan</th>\n",
       "      <th>Regionname_Northern Victoria</th>\n",
       "      <th>Regionname_South-Eastern Metropolitan</th>\n",
       "      <th>Regionname_Southern Metropolitan</th>\n",
       "      <th>Regionname_Western Metropolitan</th>\n",
       "      <th>Regionname_Western Victoria</th>\n",
       "      <th>Propertycount_Greater than 10000</th>\n",
       "      <th>Propertycount_Less than 1000</th>\n",
       "    </tr>\n",
       "  </thead>\n",
       "  <tbody>\n",
       "    <tr>\n",
       "      <th>0</th>\n",
       "      <td>1490000.0</td>\n",
       "      <td>1.732051</td>\n",
       "      <td>0</td>\n",
       "      <td>1</td>\n",
       "      <td>0</td>\n",
       "      <td>0</td>\n",
       "      <td>0</td>\n",
       "      <td>0</td>\n",
       "      <td>1</td>\n",
       "      <td>0</td>\n",
       "      <td>...</td>\n",
       "      <td>0</td>\n",
       "      <td>0</td>\n",
       "      <td>1</td>\n",
       "      <td>0</td>\n",
       "      <td>0</td>\n",
       "      <td>0</td>\n",
       "      <td>0</td>\n",
       "      <td>0</td>\n",
       "      <td>0</td>\n",
       "      <td>0</td>\n",
       "    </tr>\n",
       "    <tr>\n",
       "      <th>1</th>\n",
       "      <td>1220000.0</td>\n",
       "      <td>1.732051</td>\n",
       "      <td>0</td>\n",
       "      <td>1</td>\n",
       "      <td>0</td>\n",
       "      <td>0</td>\n",
       "      <td>0</td>\n",
       "      <td>0</td>\n",
       "      <td>1</td>\n",
       "      <td>0</td>\n",
       "      <td>...</td>\n",
       "      <td>0</td>\n",
       "      <td>0</td>\n",
       "      <td>1</td>\n",
       "      <td>0</td>\n",
       "      <td>0</td>\n",
       "      <td>0</td>\n",
       "      <td>0</td>\n",
       "      <td>0</td>\n",
       "      <td>0</td>\n",
       "      <td>0</td>\n",
       "    </tr>\n",
       "    <tr>\n",
       "      <th>2</th>\n",
       "      <td>1420000.0</td>\n",
       "      <td>1.732051</td>\n",
       "      <td>0</td>\n",
       "      <td>1</td>\n",
       "      <td>0</td>\n",
       "      <td>0</td>\n",
       "      <td>0</td>\n",
       "      <td>0</td>\n",
       "      <td>1</td>\n",
       "      <td>0</td>\n",
       "      <td>...</td>\n",
       "      <td>0</td>\n",
       "      <td>0</td>\n",
       "      <td>1</td>\n",
       "      <td>0</td>\n",
       "      <td>0</td>\n",
       "      <td>0</td>\n",
       "      <td>0</td>\n",
       "      <td>0</td>\n",
       "      <td>0</td>\n",
       "      <td>0</td>\n",
       "    </tr>\n",
       "    <tr>\n",
       "      <th>3</th>\n",
       "      <td>1515000.0</td>\n",
       "      <td>2.738613</td>\n",
       "      <td>0</td>\n",
       "      <td>1</td>\n",
       "      <td>0</td>\n",
       "      <td>0</td>\n",
       "      <td>0</td>\n",
       "      <td>0</td>\n",
       "      <td>1</td>\n",
       "      <td>0</td>\n",
       "      <td>...</td>\n",
       "      <td>0</td>\n",
       "      <td>0</td>\n",
       "      <td>0</td>\n",
       "      <td>0</td>\n",
       "      <td>0</td>\n",
       "      <td>0</td>\n",
       "      <td>1</td>\n",
       "      <td>0</td>\n",
       "      <td>0</td>\n",
       "      <td>0</td>\n",
       "    </tr>\n",
       "    <tr>\n",
       "      <th>4</th>\n",
       "      <td>670000.0</td>\n",
       "      <td>3.224903</td>\n",
       "      <td>1</td>\n",
       "      <td>0</td>\n",
       "      <td>0</td>\n",
       "      <td>0</td>\n",
       "      <td>0</td>\n",
       "      <td>0</td>\n",
       "      <td>1</td>\n",
       "      <td>0</td>\n",
       "      <td>...</td>\n",
       "      <td>0</td>\n",
       "      <td>0</td>\n",
       "      <td>0</td>\n",
       "      <td>0</td>\n",
       "      <td>0</td>\n",
       "      <td>0</td>\n",
       "      <td>1</td>\n",
       "      <td>0</td>\n",
       "      <td>0</td>\n",
       "      <td>0</td>\n",
       "    </tr>\n",
       "  </tbody>\n",
       "</table>\n",
       "<p>5 rows × 21 columns</p>\n",
       "</div>"
      ],
      "text/plain": [
       "       Price  Distance  Rooms_2  Rooms_3  Rooms_4  Rooms_Greater than 4  \\\n",
       "0  1490000.0  1.732051        0        1        0                     0   \n",
       "1  1220000.0  1.732051        0        1        0                     0   \n",
       "2  1420000.0  1.732051        0        1        0                     0   \n",
       "3  1515000.0  2.738613        0        1        0                     0   \n",
       "4   670000.0  3.224903        1        0        0                     0   \n",
       "\n",
       "   Type_t  Type_u  Method_S  Method_SA  ...  Method_VB  \\\n",
       "0       0       0         1          0  ...          0   \n",
       "1       0       0         1          0  ...          0   \n",
       "2       0       0         1          0  ...          0   \n",
       "3       0       0         1          0  ...          0   \n",
       "4       0       0         1          0  ...          0   \n",
       "\n",
       "   Regionname_Eastern Victoria  Regionname_Northern Metropolitan  \\\n",
       "0                            0                                 1   \n",
       "1                            0                                 1   \n",
       "2                            0                                 1   \n",
       "3                            0                                 0   \n",
       "4                            0                                 0   \n",
       "\n",
       "   Regionname_Northern Victoria  Regionname_South-Eastern Metropolitan  \\\n",
       "0                             0                                      0   \n",
       "1                             0                                      0   \n",
       "2                             0                                      0   \n",
       "3                             0                                      0   \n",
       "4                             0                                      0   \n",
       "\n",
       "   Regionname_Southern Metropolitan  Regionname_Western Metropolitan  \\\n",
       "0                                 0                                0   \n",
       "1                                 0                                0   \n",
       "2                                 0                                0   \n",
       "3                                 0                                1   \n",
       "4                                 0                                1   \n",
       "\n",
       "   Regionname_Western Victoria  Propertycount_Greater than 10000  \\\n",
       "0                            0                                 0   \n",
       "1                            0                                 0   \n",
       "2                            0                                 0   \n",
       "3                            0                                 0   \n",
       "4                            0                                 0   \n",
       "\n",
       "   Propertycount_Less than 1000  \n",
       "0                             0  \n",
       "1                             0  \n",
       "2                             0  \n",
       "3                             0  \n",
       "4                             0  \n",
       "\n",
       "[5 rows x 21 columns]"
      ]
     },
     "execution_count": 23,
     "metadata": {},
     "output_type": "execute_result"
    }
   ],
   "source": [
    "df = pd.get_dummies(df,drop_first=True)\n",
    "df.head()"
   ]
  },
  {
   "cell_type": "markdown",
   "metadata": {},
   "source": [
    "### Scaling"
   ]
  },
  {
   "cell_type": "markdown",
   "metadata": {},
   "source": [
    "Scaling is needed since there are different scales, the performance of the models will be affected when the input numerical variables contain different scales."
   ]
  },
  {
   "cell_type": "code",
   "execution_count": 24,
   "metadata": {},
   "outputs": [
    {
     "data": {
      "text/html": [
       "<div>\n",
       "<style scoped>\n",
       "    .dataframe tbody tr th:only-of-type {\n",
       "        vertical-align: middle;\n",
       "    }\n",
       "\n",
       "    .dataframe tbody tr th {\n",
       "        vertical-align: top;\n",
       "    }\n",
       "\n",
       "    .dataframe thead th {\n",
       "        text-align: right;\n",
       "    }\n",
       "</style>\n",
       "<table border=\"1\" class=\"dataframe\">\n",
       "  <thead>\n",
       "    <tr style=\"text-align: right;\">\n",
       "      <th></th>\n",
       "      <th>Price</th>\n",
       "      <th>Distance</th>\n",
       "      <th>Rooms_2</th>\n",
       "      <th>Rooms_3</th>\n",
       "      <th>Rooms_4</th>\n",
       "      <th>Rooms_Greater than 4</th>\n",
       "      <th>Type_t</th>\n",
       "      <th>Type_u</th>\n",
       "      <th>Method_S</th>\n",
       "      <th>Method_SA</th>\n",
       "      <th>...</th>\n",
       "      <th>Method_VB</th>\n",
       "      <th>Regionname_Eastern Victoria</th>\n",
       "      <th>Regionname_Northern Metropolitan</th>\n",
       "      <th>Regionname_Northern Victoria</th>\n",
       "      <th>Regionname_South-Eastern Metropolitan</th>\n",
       "      <th>Regionname_Southern Metropolitan</th>\n",
       "      <th>Regionname_Western Metropolitan</th>\n",
       "      <th>Regionname_Western Victoria</th>\n",
       "      <th>Propertycount_Greater than 10000</th>\n",
       "      <th>Propertycount_Less than 1000</th>\n",
       "    </tr>\n",
       "  </thead>\n",
       "  <tbody>\n",
       "    <tr>\n",
       "      <th>0</th>\n",
       "      <td>1.439004</td>\n",
       "      <td>-1.684025</td>\n",
       "      <td>-0.555754</td>\n",
       "      <td>1.086469</td>\n",
       "      <td>-0.536743</td>\n",
       "      <td>-0.21594</td>\n",
       "      <td>-0.350884</td>\n",
       "      <td>-0.509091</td>\n",
       "      <td>0.756069</td>\n",
       "      <td>-0.084431</td>\n",
       "      <td>...</td>\n",
       "      <td>-0.331364</td>\n",
       "      <td>-0.058256</td>\n",
       "      <td>1.526809</td>\n",
       "      <td>-0.068417</td>\n",
       "      <td>-0.280157</td>\n",
       "      <td>-0.564623</td>\n",
       "      <td>-0.514109</td>\n",
       "      <td>-0.049925</td>\n",
       "      <td>-0.604022</td>\n",
       "      <td>-0.119254</td>\n",
       "    </tr>\n",
       "    <tr>\n",
       "      <th>1</th>\n",
       "      <td>0.761736</td>\n",
       "      <td>-1.684025</td>\n",
       "      <td>-0.555754</td>\n",
       "      <td>1.086469</td>\n",
       "      <td>-0.536743</td>\n",
       "      <td>-0.21594</td>\n",
       "      <td>-0.350884</td>\n",
       "      <td>-0.509091</td>\n",
       "      <td>0.756069</td>\n",
       "      <td>-0.084431</td>\n",
       "      <td>...</td>\n",
       "      <td>-0.331364</td>\n",
       "      <td>-0.058256</td>\n",
       "      <td>1.526809</td>\n",
       "      <td>-0.068417</td>\n",
       "      <td>-0.280157</td>\n",
       "      <td>-0.564623</td>\n",
       "      <td>-0.514109</td>\n",
       "      <td>-0.049925</td>\n",
       "      <td>-0.604022</td>\n",
       "      <td>-0.119254</td>\n",
       "    </tr>\n",
       "    <tr>\n",
       "      <th>2</th>\n",
       "      <td>1.263416</td>\n",
       "      <td>-1.684025</td>\n",
       "      <td>-0.555754</td>\n",
       "      <td>1.086469</td>\n",
       "      <td>-0.536743</td>\n",
       "      <td>-0.21594</td>\n",
       "      <td>-0.350884</td>\n",
       "      <td>-0.509091</td>\n",
       "      <td>0.756069</td>\n",
       "      <td>-0.084431</td>\n",
       "      <td>...</td>\n",
       "      <td>-0.331364</td>\n",
       "      <td>-0.058256</td>\n",
       "      <td>1.526809</td>\n",
       "      <td>-0.068417</td>\n",
       "      <td>-0.280157</td>\n",
       "      <td>-0.564623</td>\n",
       "      <td>-0.514109</td>\n",
       "      <td>-0.049925</td>\n",
       "      <td>-0.604022</td>\n",
       "      <td>-0.119254</td>\n",
       "    </tr>\n",
       "    <tr>\n",
       "      <th>3</th>\n",
       "      <td>1.501714</td>\n",
       "      <td>-0.635026</td>\n",
       "      <td>-0.555754</td>\n",
       "      <td>1.086469</td>\n",
       "      <td>-0.536743</td>\n",
       "      <td>-0.21594</td>\n",
       "      <td>-0.350884</td>\n",
       "      <td>-0.509091</td>\n",
       "      <td>0.756069</td>\n",
       "      <td>-0.084431</td>\n",
       "      <td>...</td>\n",
       "      <td>-0.331364</td>\n",
       "      <td>-0.058256</td>\n",
       "      <td>-0.654961</td>\n",
       "      <td>-0.068417</td>\n",
       "      <td>-0.280157</td>\n",
       "      <td>-0.564623</td>\n",
       "      <td>1.945111</td>\n",
       "      <td>-0.049925</td>\n",
       "      <td>-0.604022</td>\n",
       "      <td>-0.119254</td>\n",
       "    </tr>\n",
       "    <tr>\n",
       "      <th>4</th>\n",
       "      <td>-0.617883</td>\n",
       "      <td>-0.128234</td>\n",
       "      <td>1.799357</td>\n",
       "      <td>-0.920413</td>\n",
       "      <td>-0.536743</td>\n",
       "      <td>-0.21594</td>\n",
       "      <td>-0.350884</td>\n",
       "      <td>-0.509091</td>\n",
       "      <td>0.756069</td>\n",
       "      <td>-0.084431</td>\n",
       "      <td>...</td>\n",
       "      <td>-0.331364</td>\n",
       "      <td>-0.058256</td>\n",
       "      <td>-0.654961</td>\n",
       "      <td>-0.068417</td>\n",
       "      <td>-0.280157</td>\n",
       "      <td>-0.564623</td>\n",
       "      <td>1.945111</td>\n",
       "      <td>-0.049925</td>\n",
       "      <td>-0.604022</td>\n",
       "      <td>-0.119254</td>\n",
       "    </tr>\n",
       "  </tbody>\n",
       "</table>\n",
       "<p>5 rows × 21 columns</p>\n",
       "</div>"
      ],
      "text/plain": [
       "      Price  Distance   Rooms_2   Rooms_3   Rooms_4  Rooms_Greater than 4  \\\n",
       "0  1.439004 -1.684025 -0.555754  1.086469 -0.536743              -0.21594   \n",
       "1  0.761736 -1.684025 -0.555754  1.086469 -0.536743              -0.21594   \n",
       "2  1.263416 -1.684025 -0.555754  1.086469 -0.536743              -0.21594   \n",
       "3  1.501714 -0.635026 -0.555754  1.086469 -0.536743              -0.21594   \n",
       "4 -0.617883 -0.128234  1.799357 -0.920413 -0.536743              -0.21594   \n",
       "\n",
       "     Type_t    Type_u  Method_S  Method_SA  ...  Method_VB  \\\n",
       "0 -0.350884 -0.509091  0.756069  -0.084431  ...  -0.331364   \n",
       "1 -0.350884 -0.509091  0.756069  -0.084431  ...  -0.331364   \n",
       "2 -0.350884 -0.509091  0.756069  -0.084431  ...  -0.331364   \n",
       "3 -0.350884 -0.509091  0.756069  -0.084431  ...  -0.331364   \n",
       "4 -0.350884 -0.509091  0.756069  -0.084431  ...  -0.331364   \n",
       "\n",
       "   Regionname_Eastern Victoria  Regionname_Northern Metropolitan  \\\n",
       "0                    -0.058256                          1.526809   \n",
       "1                    -0.058256                          1.526809   \n",
       "2                    -0.058256                          1.526809   \n",
       "3                    -0.058256                         -0.654961   \n",
       "4                    -0.058256                         -0.654961   \n",
       "\n",
       "   Regionname_Northern Victoria  Regionname_South-Eastern Metropolitan  \\\n",
       "0                     -0.068417                              -0.280157   \n",
       "1                     -0.068417                              -0.280157   \n",
       "2                     -0.068417                              -0.280157   \n",
       "3                     -0.068417                              -0.280157   \n",
       "4                     -0.068417                              -0.280157   \n",
       "\n",
       "   Regionname_Southern Metropolitan  Regionname_Western Metropolitan  \\\n",
       "0                         -0.564623                        -0.514109   \n",
       "1                         -0.564623                        -0.514109   \n",
       "2                         -0.564623                        -0.514109   \n",
       "3                         -0.564623                         1.945111   \n",
       "4                         -0.564623                         1.945111   \n",
       "\n",
       "   Regionname_Western Victoria  Propertycount_Greater than 10000  \\\n",
       "0                    -0.049925                         -0.604022   \n",
       "1                    -0.049925                         -0.604022   \n",
       "2                    -0.049925                         -0.604022   \n",
       "3                    -0.049925                         -0.604022   \n",
       "4                    -0.049925                         -0.604022   \n",
       "\n",
       "   Propertycount_Less than 1000  \n",
       "0                     -0.119254  \n",
       "1                     -0.119254  \n",
       "2                     -0.119254  \n",
       "3                     -0.119254  \n",
       "4                     -0.119254  \n",
       "\n",
       "[5 rows x 21 columns]"
      ]
     },
     "execution_count": 24,
     "metadata": {},
     "output_type": "execute_result"
    }
   ],
   "source": [
    "# Scaling the data using Standard Scaler\n",
    "\n",
    "ss = StandardScaler()\n",
    "\n",
    "df_scaled = pd.DataFrame(ss.fit_transform(df),columns=df.columns)\n",
    "df_scaled.head()"
   ]
  },
  {
   "cell_type": "markdown",
   "metadata": {},
   "source": [
    "### Splitting the data into train and test sets"
   ]
  },
  {
   "cell_type": "code",
   "execution_count": 25,
   "metadata": {},
   "outputs": [],
   "source": [
    "X = df.drop('Price',axis=1)\n",
    "y = df['Price']"
   ]
  },
  {
   "cell_type": "code",
   "execution_count": 26,
   "metadata": {},
   "outputs": [],
   "source": [
    "# Splitting the data\n",
    "\n",
    "X_train, X_test, y_train, y_test = train_test_split( X, y, test_size=0.2, random_state=34)"
   ]
  },
  {
   "cell_type": "markdown",
   "metadata": {},
   "source": [
    "### Baseline method\n",
    "\n",
    "We'll use a simple baseline: for all test instances, predict the median value seen in the training data:"
   ]
  },
  {
   "cell_type": "code",
   "execution_count": 27,
   "metadata": {},
   "outputs": [
    {
     "data": {
      "text/plain": [
       "820000.0"
      ]
     },
     "execution_count": 27,
     "metadata": {},
     "output_type": "execute_result"
    }
   ],
   "source": [
    "med_price = y_train.median()\n",
    "med_price"
   ]
  },
  {
   "cell_type": "code",
   "execution_count": 28,
   "metadata": {},
   "outputs": [
    {
     "data": {
      "text/plain": [
       "410176.90309563436"
      ]
     },
     "execution_count": 28,
     "metadata": {},
     "output_type": "execute_result"
    }
   ],
   "source": [
    "y_pred = np.full((y_train.shape[0],1),med_price)\n",
    "\n",
    "baseline_mse = mean_squared_error(y_train, y_pred)\n",
    "baseline_rmse = np.sqrt(baseline_mse)\n",
    "baseline_rmse"
   ]
  },
  {
   "cell_type": "markdown",
   "metadata": {},
   "source": [
    "## Model Building\n",
    "\n",
    "### Linear Regression"
   ]
  },
  {
   "cell_type": "code",
   "execution_count": 29,
   "metadata": {},
   "outputs": [
    {
     "data": {
      "text/plain": [
       "LinearRegression()"
      ]
     },
     "execution_count": 29,
     "metadata": {},
     "output_type": "execute_result"
    }
   ],
   "source": [
    "lr = LinearRegression()\n",
    "\n",
    "lr.fit(X_train,y_train)"
   ]
  },
  {
   "cell_type": "code",
   "execution_count": 30,
   "metadata": {},
   "outputs": [
    {
     "data": {
      "text/plain": [
       "0.582565967394963"
      ]
     },
     "execution_count": 30,
     "metadata": {},
     "output_type": "execute_result"
    }
   ],
   "source": [
    "lr.score(X_train,y_train)"
   ]
  },
  {
   "cell_type": "code",
   "execution_count": 31,
   "metadata": {},
   "outputs": [],
   "source": [
    "y_pred = lr.predict(X_train)"
   ]
  },
  {
   "cell_type": "code",
   "execution_count": 32,
   "metadata": {},
   "outputs": [
    {
     "data": {
      "text/plain": [
       "257737.37201979538"
      ]
     },
     "execution_count": 32,
     "metadata": {},
     "output_type": "execute_result"
    }
   ],
   "source": [
    "lr_rmse = np.sqrt(mean_squared_error(y_pred,y_train))\n",
    "lr_rmse"
   ]
  },
  {
   "cell_type": "code",
   "execution_count": 33,
   "metadata": {},
   "outputs": [
    {
     "data": {
      "image/png": "[encoded data removed]",
      "text/plain": [
       "<Figure size 936x360 with 1 Axes>"
      ]
     },
     "metadata": {
      "needs_background": "light"
     },
     "output_type": "display_data"
    }
   ],
   "source": [
    "df1 = pd.DataFrame({\"ytrain\": y_train[:40], \"ypred\": y_pred[:40]})\n",
    "\n",
    "df1.plot(kind='bar',figsize=(13,5))\n",
    "plt.show()"
   ]
  },
  {
   "cell_type": "markdown",
   "metadata": {},
   "source": [
    "### Decision Trees"
   ]
  },
  {
   "cell_type": "code",
   "execution_count": 34,
   "metadata": {},
   "outputs": [
    {
     "data": {
      "text/plain": [
       "DecisionTreeRegressor(random_state=43)"
      ]
     },
     "execution_count": 34,
     "metadata": {},
     "output_type": "execute_result"
    }
   ],
   "source": [
    "dt = DecisionTreeRegressor(random_state=43)\n",
    "\n",
    "dt.fit(X_train,y_train)"
   ]
  },
  {
   "cell_type": "code",
   "execution_count": 35,
   "metadata": {},
   "outputs": [
    {
     "data": {
      "text/plain": [
       "0.7926309809068894"
      ]
     },
     "execution_count": 35,
     "metadata": {},
     "output_type": "execute_result"
    }
   ],
   "source": [
    "dt.score(X_train,y_train)"
   ]
  },
  {
   "cell_type": "code",
   "execution_count": 36,
   "metadata": {},
   "outputs": [],
   "source": [
    "y_pred = dt.predict(X_train)"
   ]
  },
  {
   "cell_type": "code",
   "execution_count": 37,
   "metadata": {},
   "outputs": [
    {
     "data": {
      "text/plain": [
       "181658.3670638669"
      ]
     },
     "execution_count": 37,
     "metadata": {},
     "output_type": "execute_result"
    }
   ],
   "source": [
    "dt_rmse = np.sqrt(mean_squared_error(y_pred,y_train))\n",
    "dt_rmse"
   ]
  },
  {
   "cell_type": "code",
   "execution_count": 38,
   "metadata": {},
   "outputs": [
    {
     "data": {
      "image/png": "[encoded data removed]",
      "text/plain": [
       "<Figure size 936x360 with 1 Axes>"
      ]
     },
     "metadata": {
      "needs_background": "light"
     },
     "output_type": "display_data"
    }
   ],
   "source": [
    "df1 = pd.DataFrame({\"ytrain\": y_train[:40], \"ypred\": y_pred[:40]})\n",
    "\n",
    "df1.plot(kind='bar',figsize=(13,5))\n",
    "plt.show()"
   ]
  },
  {
   "cell_type": "markdown",
   "metadata": {},
   "source": [
    "### Random Forest Regressor"
   ]
  },
  {
   "cell_type": "code",
   "execution_count": 39,
   "metadata": {},
   "outputs": [
    {
     "data": {
      "text/plain": [
       "RandomForestRegressor(random_state=34)"
      ]
     },
     "execution_count": 39,
     "metadata": {},
     "output_type": "execute_result"
    }
   ],
   "source": [
    "rf = RandomForestRegressor(random_state=34)\n",
    "\n",
    "rf.fit(X_train,y_train)"
   ]
  },
  {
   "cell_type": "code",
   "execution_count": 40,
   "metadata": {},
   "outputs": [
    {
     "data": {
      "text/plain": [
       "0.7900207832166233"
      ]
     },
     "execution_count": 40,
     "metadata": {},
     "output_type": "execute_result"
    }
   ],
   "source": [
    "rf.score(X_train,y_train)"
   ]
  },
  {
   "cell_type": "code",
   "execution_count": 41,
   "metadata": {},
   "outputs": [],
   "source": [
    "y_pred = rf.predict(X_train)"
   ]
  },
  {
   "cell_type": "code",
   "execution_count": 42,
   "metadata": {},
   "outputs": [
    {
     "data": {
      "text/plain": [
       "182798.0779720877"
      ]
     },
     "execution_count": 42,
     "metadata": {},
     "output_type": "execute_result"
    }
   ],
   "source": [
    "rf_rmse = np.sqrt(mean_squared_error(y_pred,y_train))\n",
    "rf_rmse"
   ]
  },
  {
   "cell_type": "code",
   "execution_count": 43,
   "metadata": {},
   "outputs": [
    {
     "data": {
      "image/png": "[encoded data removed]",
      "text/plain": [
       "<Figure size 936x360 with 1 Axes>"
      ]
     },
     "metadata": {
      "needs_background": "light"
     },
     "output_type": "display_data"
    }
   ],
   "source": [
    "df1 = pd.DataFrame({\"ytrain\": y_train[:40], \"ypred\": y_pred[:40]})\n",
    "\n",
    "df1.plot(kind='bar',figsize=(13,5))\n",
    "plt.show()"
   ]
  },
  {
   "cell_type": "markdown",
   "metadata": {},
   "source": [
    "## Cross-Validation"
   ]
  },
  {
   "cell_type": "markdown",
   "metadata": {},
   "source": [
    "The validation or evaluation cannot be done on the training data since overfitting might happen with the best models. Hence a validation set opposed to test-set is created by splitting the training data."
   ]
  },
  {
   "cell_type": "code",
   "execution_count": 44,
   "metadata": {},
   "outputs": [
    {
     "name": "stdout",
     "output_type": "stream",
     "text": [
      "Scores: [257470.53659451 256325.25032156 256723.55283233 262598.97390228\n",
      " 256473.35791974]\n",
      "Mean: 257918.334314085\n",
      "Standard deviation: 2373.2798372234993\n"
     ]
    }
   ],
   "source": [
    "# Linear Regressor\n",
    "\n",
    "scores = cross_val_score(lr, X_train, y_train, scoring=\"neg_mean_squared_error\", cv=5)\n",
    "\n",
    "scores = np.sqrt(-scores)\n",
    "\n",
    "print(\"Scores:\",scores)\n",
    "print(\"Mean:\", scores.mean())\n",
    "print(\"Standard deviation:\", scores.std())"
   ]
  },
  {
   "cell_type": "code",
   "execution_count": 45,
   "metadata": {},
   "outputs": [
    {
     "name": "stdout",
     "output_type": "stream",
     "text": [
      "Scores: [214895.09007011 216569.71031494 210444.83619811 217526.20240989\n",
      " 210985.36043163]\n",
      "Mean: 214084.23988493704\n",
      "Standard deviation: 2882.029158985061\n"
     ]
    }
   ],
   "source": [
    "# Decision Tree Regressor\n",
    "\n",
    "scores = cross_val_score(dt, X_train, y_train, scoring=\"neg_mean_squared_error\", cv=5)\n",
    "\n",
    "scores = np.sqrt(-scores)\n",
    "\n",
    "print(\"Scores:\",scores)\n",
    "print(\"Mean:\", scores.mean())\n",
    "print(\"Standard deviation:\", scores.std())"
   ]
  },
  {
   "cell_type": "code",
   "execution_count": 46,
   "metadata": {},
   "outputs": [
    {
     "name": "stdout",
     "output_type": "stream",
     "text": [
      "Scores: [213385.43792466 212730.76962296 207864.23160003 214183.92693721\n",
      " 209470.39208875]\n",
      "Mean: 211526.95163472212\n",
      "Standard deviation: 2433.418254856725\n"
     ]
    }
   ],
   "source": [
    "# Random Forest Regressor\n",
    "\n",
    "rf = RandomForestRegressor(n_estimators=5, random_state=34)\n",
    "scores = cross_val_score(rf, X_train, y_train, scoring=\"neg_mean_squared_error\", cv=5)\n",
    "\n",
    "scores = np.sqrt(-scores)\n",
    "\n",
    "print(\"Scores:\",scores)\n",
    "print(\"Mean:\", scores.mean())\n",
    "print(\"Standard deviation:\", scores.std())"
   ]
  },
  {
   "cell_type": "markdown",
   "metadata": {},
   "source": [
    "## Hyperparameters tuning using GridSearchCV\n",
    "\n",
    "\n",
    "In the previous experiment, we used 5 decision trees in the Random Forest algorithm. This setting is called a hyperparameter of the algorithm, and needs to be set before a model is trained.\n",
    "\n",
    "We might experiment with several different settings of the hyperparameter to find its optimal settings. However, many algorithms have quite a few of such hyperparameters. Scikit-learn has a utility to automatically search for the best combination of hyperparameter values, implemented in the `GridSearchCV` class. \n",
    "\n",
    "`GridSearchCV` takes a set of hyperparameters and the search range for each hyperparameter, constructs a search grid with all possible hyperparameter combinations, and evaluates each combination using cross-validation. The output is the model with the best cross-validation accuracy."
   ]
  },
  {
   "cell_type": "code",
   "execution_count": 462,
   "metadata": {},
   "outputs": [],
   "source": [
    "rf = RandomForestRegressor(random_state=34)\n",
    "\n",
    "params = [{'n_estimators':np.arange(1,50,2),'max_depth':np.arange(1,32,2)}]\n",
    "kfold = StratifiedKFold(n_splits=5, shuffle=True, random_state=1)\n",
    "\n",
    "gsearch = GridSearchCV(estimator=rf,param_grid=params,cv = kfold,scoring='neg_mean_squared_error',return_train_score=True)"
   ]
  },
  {
   "cell_type": "code",
   "execution_count": 463,
   "metadata": {},
   "outputs": [
    {
     "data": {
      "text/plain": [
       "GridSearchCV(cv=StratifiedKFold(n_splits=5, random_state=1, shuffle=True),\n",
       "             estimator=RandomForestRegressor(random_state=34),\n",
       "             param_grid=[{'max_depth': array([ 1,  3,  5,  7,  9, 11, 13, 15, 17, 19, 21, 23, 25, 27, 29, 31]),\n",
       "                          'n_estimators': array([ 1,  3,  5,  7,  9, 11, 13, 15, 17, 19, 21, 23, 25, 27, 29, 31, 33,\n",
       "       35, 37, 39, 41, 43, 45, 47, 49])}],\n",
       "             return_train_score=True, scoring='neg_mean_squared_error')"
      ]
     },
     "execution_count": 463,
     "metadata": {},
     "output_type": "execute_result"
    }
   ],
   "source": [
    "gsearch.fit(X_train,y_train)"
   ]
  },
  {
   "cell_type": "code",
   "execution_count": 465,
   "metadata": {},
   "outputs": [
    {
     "data": {
      "text/plain": [
       "RandomForestRegressor(max_depth=13, n_estimators=35, random_state=34)"
      ]
     },
     "execution_count": 465,
     "metadata": {},
     "output_type": "execute_result"
    }
   ],
   "source": [
    "gsearch.best_estimator_"
   ]
  },
  {
   "cell_type": "markdown",
   "metadata": {},
   "source": [
    "The best model proved to be one with max_depth=13, n_estimators=35, random_state=34"
   ]
  },
  {
   "cell_type": "markdown",
   "metadata": {},
   "source": [
    "### Feature Importances"
   ]
  },
  {
   "cell_type": "code",
   "execution_count": 484,
   "metadata": {},
   "outputs": [
    {
     "data": {
      "text/html": [
       "<div>\n",
       "<style scoped>\n",
       "    .dataframe tbody tr th:only-of-type {\n",
       "        vertical-align: middle;\n",
       "    }\n",
       "\n",
       "    .dataframe tbody tr th {\n",
       "        vertical-align: top;\n",
       "    }\n",
       "\n",
       "    .dataframe thead th {\n",
       "        text-align: right;\n",
       "    }\n",
       "</style>\n",
       "<table border=\"1\" class=\"dataframe\">\n",
       "  <thead>\n",
       "    <tr style=\"text-align: right;\">\n",
       "      <th></th>\n",
       "      <th>Feature importance</th>\n",
       "    </tr>\n",
       "  </thead>\n",
       "  <tbody>\n",
       "    <tr>\n",
       "      <th>Distance</th>\n",
       "      <td>26.493669</td>\n",
       "    </tr>\n",
       "    <tr>\n",
       "      <th>Regionname_Southern Metropolitan</th>\n",
       "      <td>23.904142</td>\n",
       "    </tr>\n",
       "    <tr>\n",
       "      <th>Type_u</th>\n",
       "      <td>17.890089</td>\n",
       "    </tr>\n",
       "    <tr>\n",
       "      <th>Regionname_Western Metropolitan</th>\n",
       "      <td>6.580871</td>\n",
       "    </tr>\n",
       "    <tr>\n",
       "      <th>Rooms_2</th>\n",
       "      <td>4.484446</td>\n",
       "    </tr>\n",
       "    <tr>\n",
       "      <th>Type_t</th>\n",
       "      <td>4.440135</td>\n",
       "    </tr>\n",
       "    <tr>\n",
       "      <th>Regionname_Northern Metropolitan</th>\n",
       "      <td>3.709901</td>\n",
       "    </tr>\n",
       "    <tr>\n",
       "      <th>Rooms_3</th>\n",
       "      <td>3.258395</td>\n",
       "    </tr>\n",
       "    <tr>\n",
       "      <th>Rooms_4</th>\n",
       "      <td>3.022842</td>\n",
       "    </tr>\n",
       "    <tr>\n",
       "      <th>Rooms_Greater than 4</th>\n",
       "      <td>1.815154</td>\n",
       "    </tr>\n",
       "    <tr>\n",
       "      <th>Propertycount_Greater than 10000</th>\n",
       "      <td>1.403554</td>\n",
       "    </tr>\n",
       "    <tr>\n",
       "      <th>Method_S</th>\n",
       "      <td>0.928203</td>\n",
       "    </tr>\n",
       "    <tr>\n",
       "      <th>Method_VB</th>\n",
       "      <td>0.662894</td>\n",
       "    </tr>\n",
       "    <tr>\n",
       "      <th>Method_SP</th>\n",
       "      <td>0.563865</td>\n",
       "    </tr>\n",
       "    <tr>\n",
       "      <th>Propertycount_Less than 1000</th>\n",
       "      <td>0.354044</td>\n",
       "    </tr>\n",
       "    <tr>\n",
       "      <th>Regionname_Western Victoria</th>\n",
       "      <td>0.215603</td>\n",
       "    </tr>\n",
       "    <tr>\n",
       "      <th>Method_SA</th>\n",
       "      <td>0.093304</td>\n",
       "    </tr>\n",
       "    <tr>\n",
       "      <th>Regionname_South-Eastern Metropolitan</th>\n",
       "      <td>0.088797</td>\n",
       "    </tr>\n",
       "    <tr>\n",
       "      <th>Regionname_Northern Victoria</th>\n",
       "      <td>0.073367</td>\n",
       "    </tr>\n",
       "    <tr>\n",
       "      <th>Regionname_Eastern Victoria</th>\n",
       "      <td>0.016725</td>\n",
       "    </tr>\n",
       "  </tbody>\n",
       "</table>\n",
       "</div>"
      ],
      "text/plain": [
       "                                       Feature importance\n",
       "Distance                                        26.493669\n",
       "Regionname_Southern Metropolitan                23.904142\n",
       "Type_u                                          17.890089\n",
       "Regionname_Western Metropolitan                  6.580871\n",
       "Rooms_2                                          4.484446\n",
       "Type_t                                           4.440135\n",
       "Regionname_Northern Metropolitan                 3.709901\n",
       "Rooms_3                                          3.258395\n",
       "Rooms_4                                          3.022842\n",
       "Rooms_Greater than 4                             1.815154\n",
       "Propertycount_Greater than 10000                 1.403554\n",
       "Method_S                                         0.928203\n",
       "Method_VB                                        0.662894\n",
       "Method_SP                                        0.563865\n",
       "Propertycount_Less than 1000                     0.354044\n",
       "Regionname_Western Victoria                      0.215603\n",
       "Method_SA                                        0.093304\n",
       "Regionname_South-Eastern Metropolitan            0.088797\n",
       "Regionname_Northern Victoria                     0.073367\n",
       "Regionname_Eastern Victoria                      0.016725"
      ]
     },
     "execution_count": 484,
     "metadata": {},
     "output_type": "execute_result"
    }
   ],
   "source": [
    "# Percantage of importance of each feature\n",
    "\n",
    "pd.DataFrame(gsearch.best_estimator_.feature_importances_*100,index=X_train.columns,columns = ['Feature importance']).sort_values(by = 'Feature importance',ascending=False)"
   ]
  },
  {
   "cell_type": "markdown",
   "metadata": {},
   "source": [
    "As we have very less number of columns, hence not neglecting any column. Building the model with all above features."
   ]
  },
  {
   "cell_type": "markdown",
   "metadata": {},
   "source": [
    "### Building Final model with best parameters"
   ]
  },
  {
   "cell_type": "code",
   "execution_count": 47,
   "metadata": {},
   "outputs": [
    {
     "data": {
      "text/plain": [
       "RandomForestRegressor(max_depth=13, n_estimators=35, random_state=34)"
      ]
     },
     "execution_count": 47,
     "metadata": {},
     "output_type": "execute_result"
    }
   ],
   "source": [
    "rf_final = RandomForestRegressor(max_depth=13, n_estimators=35, random_state=34)\n",
    "\n",
    "rf_final.fit(X_train,y_train)"
   ]
  },
  {
   "cell_type": "code",
   "execution_count": 48,
   "metadata": {},
   "outputs": [
    {
     "data": {
      "text/plain": [
       "0.7762821698719707"
      ]
     },
     "execution_count": 48,
     "metadata": {},
     "output_type": "execute_result"
    }
   ],
   "source": [
    "rf_final.score(X_train,y_train)"
   ]
  },
  {
   "cell_type": "code",
   "execution_count": 49,
   "metadata": {},
   "outputs": [
    {
     "name": "stdout",
     "output_type": "stream",
     "text": [
      "Scores: [207875.19460608 205529.31563319 204088.5548002  208562.71369722\n",
      " 204514.70035401]\n",
      "Mean: 206114.09581813947\n",
      "Standard deviation: 1794.438552269562\n"
     ]
    }
   ],
   "source": [
    "scores = cross_val_score(rf_final, X_train, y_train, scoring=\"neg_mean_squared_error\", cv=5)\n",
    "\n",
    "scores = np.sqrt(-scores)\n",
    "\n",
    "print(\"Scores:\",scores)\n",
    "print(\"Mean:\", scores.mean())\n",
    "print(\"Standard deviation:\", scores.std())"
   ]
  },
  {
   "cell_type": "code",
   "execution_count": 50,
   "metadata": {},
   "outputs": [],
   "source": [
    "y_pred = rf_final.predict(X_train)"
   ]
  },
  {
   "cell_type": "code",
   "execution_count": 51,
   "metadata": {},
   "outputs": [
    {
     "data": {
      "text/plain": [
       "188683.43259949234"
      ]
     },
     "execution_count": 51,
     "metadata": {},
     "output_type": "execute_result"
    }
   ],
   "source": [
    "rf_rmse = np.sqrt(mean_squared_error(y_pred,y_train))\n",
    "rf_rmse"
   ]
  },
  {
   "cell_type": "code",
   "execution_count": 52,
   "metadata": {},
   "outputs": [
    {
     "data": {
      "image/png": "[encoded data removed]",
      "text/plain": [
       "<Figure size 936x360 with 1 Axes>"
      ]
     },
     "metadata": {
      "needs_background": "light"
     },
     "output_type": "display_data"
    }
   ],
   "source": [
    "df1 = pd.DataFrame({\"ytrain\": y_train[:40], \"ypred\": y_pred[:40]})\n",
    "\n",
    "df1.plot(kind='bar',figsize=(13,5))\n",
    "plt.show()"
   ]
  },
  {
   "cell_type": "markdown",
   "metadata": {},
   "source": [
    "Model is performing good as we can see the above bar graphs of training and predicted values.\n",
    "Also we can observe there is no much change even after tuning the hyperparameters. And so we can confirm the above Random Forest model as a final model."
   ]
  },
  {
   "cell_type": "markdown",
   "metadata": {},
   "source": [
    "### Evaluating on test set"
   ]
  },
  {
   "cell_type": "code",
   "execution_count": 53,
   "metadata": {},
   "outputs": [],
   "source": [
    "y_pred = rf_final.predict(X_test)"
   ]
  },
  {
   "cell_type": "code",
   "execution_count": 54,
   "metadata": {},
   "outputs": [
    {
     "data": {
      "text/plain": [
       "206951.07261035618"
      ]
     },
     "execution_count": 54,
     "metadata": {},
     "output_type": "execute_result"
    }
   ],
   "source": [
    "final_mse = mean_squared_error(y_test, y_pred)\n",
    "final_rmse = np.sqrt(final_mse)\n",
    "final_rmse"
   ]
  },
  {
   "cell_type": "markdown",
   "metadata": {},
   "source": [
    "Visualization the predictions on the test set:"
   ]
  },
  {
   "cell_type": "code",
   "execution_count": 55,
   "metadata": {},
   "outputs": [
    {
     "data": {
      "image/png": "[encoded data removed]",
      "text/plain": [
       "<Figure size 936x360 with 1 Axes>"
      ]
     },
     "metadata": {
      "needs_background": "light"
     },
     "output_type": "display_data"
    }
   ],
   "source": [
    "df1 = pd.DataFrame({\"ytrain\": y_train[:40], \"ypred\": y_pred[:40]})\n",
    "\n",
    "df1.plot(kind='bar',figsize=(13,5))\n",
    "plt.show()"
   ]
  },
  {
   "cell_type": "markdown",
   "metadata": {},
   "source": [
    "### WORD COUNT:"
   ]
  },
  {
   "cell_type": "code",
   "execution_count": 4,
   "metadata": {},
   "outputs": [
    {
     "data": {
      "application/javascript": [
       "var nb = IPython.notebook;\n",
       "var kernel = IPython.notebook.kernel;\n",
       "var command = \"NOTEBOOK_FULL_PATH = '\" + nb.notebook_path + \"'\";\n",
       "kernel.execute(command);\n"
      ],
      "text/plain": [
       "<IPython.core.display.Javascript object>"
      ]
     },
     "metadata": {},
     "output_type": "display_data"
    }
   ],
   "source": [
    "%%javascript\n",
    "var nb = IPython.notebook;\n",
    "var kernel = IPython.notebook.kernel;\n",
    "var command = \"NOTEBOOK_FULL_PATH = '\" + nb.notebook_path + \"'\";\n",
    "kernel.execute(command);"
   ]
  },
  {
   "cell_type": "code",
   "execution_count": 5,
   "metadata": {},
   "outputs": [
    {
     "name": "stdout",
     "output_type": "stream",
     "text": [
      "Word count: 987\n"
     ]
    }
   ],
   "source": [
    "import io\n",
    "from IPython.nbformat import current\n",
    "\n",
    "with io.open(NOTEBOOK_FULL_PATH.split(\"/\")[-1], 'r', encoding='utf-8') as f:\n",
    "    nb = current.read(f, 'json')\n",
    "\n",
    "word_count = 0\n",
    "for cell in nb.worksheets[0].cells:\n",
    "    if cell.cell_type == \"markdown\":\n",
    "        word_count += len(cell['source'].replace('#', '').lstrip().split(' '))\n",
    "print(f\"Word count: {word_count}\")"
   ]
  },
  {
   "cell_type": "code",
   "execution_count": null,
   "metadata": {},
   "outputs": [],
   "source": []
  }
 ],
 "metadata": {
  "kernelspec": {
   "display_name": "Python 3 (ipykernel)",
   "language": "python",
   "name": "python3"
  },
  "language_info": {
   "codemirror_mode": {
    "name": "ipython",
    "version": 3
   },
   "file_extension": ".py",
   "mimetype": "text/x-python",
   "name": "python",
   "nbconvert_exporter": "python",
   "pygments_lexer": "ipython3",
   "version": "3.11.9"
  }
 },
 "nbformat": 4,
 "nbformat_minor": 4
}
